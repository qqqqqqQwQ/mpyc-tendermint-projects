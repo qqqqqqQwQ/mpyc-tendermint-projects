{
 "cells": [
  {
   "cell_type": "markdown",
   "metadata": {},
   "source": [
    "# Four Demos"
   ]
  },
  {
   "cell_type": "code",
   "execution_count": 4,
   "metadata": {
    "ExecuteTime": {
     "end_time": "2024-03-17T08:47:28.653997Z",
     "start_time": "2024-03-17T08:47:25.469569Z"
    }
   },
   "outputs": [],
   "source": [
    "# use pip (or, conda) to make sure numpy is installed:\n",
    "!pip -q install numpy  "
   ]
  },
  {
   "cell_type": "code",
   "execution_count": 5,
   "metadata": {
    "ExecuteTime": {
     "end_time": "2024-03-17T08:47:28.669971Z",
     "start_time": "2024-03-17T08:47:28.656670Z"
    }
   },
   "outputs": [],
   "source": [
    "from mpyc.runtime import mpc\n",
    "import secretsanta, id3gini, lpsolver, np_cnnmnist"
   ]
  },
  {
   "cell_type": "markdown",
   "metadata": {},
   "source": [
    "## Default runs"
   ]
  },
  {
   "cell_type": "code",
   "execution_count": 6,
   "metadata": {
    "ExecuteTime": {
     "end_time": "2024-03-17T08:47:29.205287Z",
     "start_time": "2024-03-17T08:47:28.671670Z"
    }
   },
   "outputs": [
    {
     "name": "stdout",
     "output_type": "stream",
     "text": [
      "Setting input to default = 8\n",
      "2024-03-17 16:47:28,674 Start MPyC runtime v0.9.9\n",
      "Using secure integers: SecInt32\n",
      "2 [1, 0]\n",
      "3 [1, 2, 0]\n",
      "4 [2, 3, 1, 0]\n",
      "5 [1, 3, 4, 2, 0]\n",
      "6 [5, 3, 4, 2, 0, 1]\n",
      "7 [3, 2, 4, 0, 5, 6, 1]\n",
      "8 [1, 6, 3, 2, 7, 4, 0, 5]\n",
      "Using secure fixed-point numbers: SecFxp32:16\n",
      "2 [1.0, 0.0]\n",
      "3 [2.0, 0.0, 1.0]\n",
      "4 [3.0, 2.0, 0.0, 1.0]\n",
      "5 [3.0, 0.0, 4.0, 1.0, 2.0]\n",
      "6 [1.0, 2.0, 4.0, 0.0, 5.0, 3.0]\n",
      "7 [2.0, 4.0, 6.0, 5.0, 1.0, 0.0, 3.0]\n",
      "8 [5.0, 7.0, 4.0, 2.0, 1.0, 6.0, 3.0, 0.0]\n",
      "Using secure prime fields: SecFld4(GF(11))\n",
      "2 [1, 0]\n",
      "3 [1, 2, 0]\n",
      "4 [2, 3, 1, 0]\n",
      "5 [4, 0, 3, 2, 1]\n",
      "6 [2, 5, 1, 4, 0, 3]\n",
      "7 [6, 2, 0, 5, 1, 3, 4]\n",
      "8 [6, 3, 4, 5, 0, 1, 7, 2]\n",
      "Using secure binary fields: SecFld3(GF(2^3))\n",
      "2 [1, 0]\n",
      "3 [1, x, 0]\n",
      "4 [x, 0, x+1, 1]\n",
      "5 [x+1, x, x^2, 1, 0]\n",
      "6 [x^2+1, x^2, 0, 1, x+1, x]\n",
      "7 [x^2+1, x+1, 0, x^2, x, x^2+x, 1]\n",
      "8 [x+1, x^2+x+1, x^2, 0, x^2+x, x, x^2+1, 1]\n",
      "Using secure quinary fields: SecFld5(GF(5^2))\n",
      "2 [1, 0]\n",
      "3 [2, 0, 1]\n",
      "4 [1, 0, 3, 2]\n",
      "5 [2, 4, 3, 0, 1]\n",
      "6 [1, 2, 3, 0, x, 4]\n",
      "7 [1, 4, 3, 0, 2, x+1, x]\n",
      "8 [4, 3, 0, x+1, x, x+2, 2, 1]\n",
      "Using secure extension fields (medium prime): SecFld25(GF(11^7))\n",
      "2 [1, 0]\n",
      "3 [1, 2, 0]\n",
      "4 [3, 0, 1, 2]\n",
      "5 [4, 0, 3, 2, 1]\n",
      "6 [1, 2, 5, 4, 3, 0]\n",
      "7 [5, 0, 6, 4, 3, 2, 1]\n",
      "8 [2, 7, 6, 5, 3, 1, 0, 4]\n",
      "Using secure extension fields (larger prime): SecFld31(GF(1031^3))\n",
      "2 [1, 0]\n",
      "3 [1, 2, 0]\n",
      "4 [1, 3, 0, 2]\n",
      "5 [2, 0, 3, 4, 1]\n",
      "6 [5, 4, 0, 1, 2, 3]\n",
      "7 [6, 2, 4, 5, 3, 1, 0]\n",
      "8 [3, 6, 0, 2, 5, 1, 7, 4]\n",
      "2024-03-17 16:47:29,201 Stop MPyC -- elapsed time: 0:00:00.524|bytes sent: 0\n"
     ]
    }
   ],
   "source": [
    "mpc.run(secretsanta.main())"
   ]
  },
  {
   "cell_type": "code",
   "execution_count": 7,
   "metadata": {
    "ExecuteTime": {
     "end_time": "2024-03-17T08:47:29.284568Z",
     "start_time": "2024-03-17T08:47:29.206289Z"
    }
   },
   "outputs": [
    {
     "name": "stdout",
     "output_type": "stream",
     "text": [
      "Using secure integers: SecInt32\n",
      "dataset: tennis with 14 samples and 4 attributes\n",
      "2024-03-17 16:47:29,216 Start MPyC runtime v0.9.9\n",
      "2024-03-17 16:47:29,228 Attribute node 0\n",
      "2024-03-17 16:47:29,233 Leaf node label 1\n",
      "2024-03-17 16:47:29,241 Attribute node 3\n",
      "2024-03-17 16:47:29,246 Leaf node label 0\n",
      "2024-03-17 16:47:29,252 Leaf node label 1\n",
      "2024-03-17 16:47:29,260 Attribute node 2\n",
      "2024-03-17 16:47:29,265 Leaf node label 0\n",
      "2024-03-17 16:47:29,270 Leaf node label 1\n",
      "2024-03-17 16:47:29,271 Stop MPyC -- elapsed time: 0:00:00.054|bytes sent: 0\n",
      "Decision tree of depth 2 and size 8: \n",
      "if Outlook == Overcast: Yes\n",
      "if Outlook == Rain: \n",
      "|   if Wind == Strong: No\n",
      "|   if Wind == Weak: Yes\n",
      "if Outlook == Sunny: \n",
      "|   if Humidity == High: No\n",
      "|   if Humidity == Normal: Yes\n"
     ]
    }
   ],
   "source": [
    "mpc.run(id3gini.main())"
   ]
  },
  {
   "cell_type": "code",
   "execution_count": 8,
   "metadata": {
    "ExecuteTime": {
     "end_time": "2024-03-17T08:47:29.330284Z",
     "start_time": "2024-03-17T08:47:29.287287Z"
    }
   },
   "outputs": [
    {
     "name": "stdout",
     "output_type": "stream",
     "text": [
      "Using secure 8-bit integers: SecInt8\n",
      "dataset: uvlp with 2 constraints and 3 variables (scale factor 1)\n",
      "2024-03-17 16:47:29,293 Start MPyC runtime v0.9.9\n",
      "2024-03-17 16:47:29,298 Iteration 1/2: 0.0 pivot=1.0\n",
      "2024-03-17 16:47:29,303 Iteration 2/2: 10.0 pivot=3.0\n",
      "max = 37 / 3 / 1 = 12.333333333333334 in 2 iterations\n",
      "2024-03-17 16:47:29,306 Solution x\n",
      "2024-03-17 16:47:29,309 Dual solution y\n",
      "verification c.x == y.b, A.x <= b, x >= 0, y.A >= c, y >= 0: True\n",
      "solution = [1.3333333333333333, 0.3333333333333333, 0.0]\n",
      "2024-03-17 16:47:29,313 Stop MPyC -- elapsed time: 0:00:00.019|bytes sent: 0\n"
     ]
    }
   ],
   "source": [
    "mpc.run(lpsolver.main())"
   ]
  },
  {
   "cell_type": "code",
   "execution_count": 9,
   "metadata": {
    "ExecuteTime": {
     "end_time": "2024-03-17T08:47:38.660065Z",
     "start_time": "2024-03-17T08:47:29.332282Z"
    }
   },
   "outputs": [
    {
     "name": "stdout",
     "output_type": "stream",
     "text": [
      "2024-03-17 16:47:29,337 Start MPyC runtime v0.9.9\n",
      "2024-03-17 16:47:29,338 --------------- INPUT   -------------\n",
      "Type = SecInt37, range = (8582, 8583)\n",
      "Labels: [4]\n",
      "[[0000000000000000000000000000]\n",
      " [0000000000000000000000000000]\n",
      " [0000000000000000000000000000]\n",
      " [0000000000000000000000000000]\n",
      " [0000000000000000000000000000]\n",
      " [0000000000000000111000000000]\n",
      " [0000000000011000111000000000]\n",
      " [0000000000111100111000000000]\n",
      " [0000000000111100111000000000]\n",
      " [0000000001111000111000000000]\n",
      " [0000000001110000111000000000]\n",
      " [0000000111110000111000000000]\n",
      " [0000001111110000111000000000]\n",
      " [0000011111110000111000000000]\n",
      " [0000011111111111111000000000]\n",
      " [0000001111111111111100000000]\n",
      " [0000000001111111111110000000]\n",
      " [0000000000000001111110000000]\n",
      " [0000000000000000111100000000]\n",
      " [0000000000000000111100000000]\n",
      " [0000000000000000111100000000]\n",
      " [0000000000000000111100000000]\n",
      " [0000000000000000111000000000]\n",
      " [0000000000000000111000000000]\n",
      " [0000000000000000111000000000]\n",
      " [0000000000000000000000000000]\n",
      " [0000000000000000000000000000]\n",
      " [0000000000000000000000000000]]\n",
      "2024-03-17 16:47:29,741 --------------- LAYER 1 -------------\n",
      "2024-03-17 16:47:29,755 - - - - - - - - conv2d  - - - - - - -\n",
      "2024-03-17 16:47:29,798 - - - - - - - - maxpool - - - - - - -\n"
     ]
    },
    {
     "ename": "KeyboardInterrupt",
     "evalue": "",
     "output_type": "error",
     "traceback": [
      "\u001B[1;31m---------------------------------------------------------------------------\u001B[0m",
      "\u001B[1;31mKeyboardInterrupt\u001B[0m                         Traceback (most recent call last)",
      "Cell \u001B[1;32mIn[9], line 1\u001B[0m\n\u001B[1;32m----> 1\u001B[0m \u001B[43mmpc\u001B[49m\u001B[38;5;241;43m.\u001B[39;49m\u001B[43mrun\u001B[49m\u001B[43m(\u001B[49m\u001B[43mnp_cnnmnist\u001B[49m\u001B[38;5;241;43m.\u001B[39;49m\u001B[43mmain\u001B[49m\u001B[43m(\u001B[49m\u001B[43m)\u001B[49m\u001B[43m)\u001B[49m\n",
      "File \u001B[1;32mE:\\desktop\\mpyc\\mpyc\\runtime.py:194\u001B[0m, in \u001B[0;36mRuntime.run\u001B[1;34m(self, f)\u001B[0m\n\u001B[0;32m    192\u001B[0m \u001B[38;5;28;01mwhile\u001B[39;00m \u001B[38;5;28;01mTrue\u001B[39;00m:\n\u001B[0;32m    193\u001B[0m     \u001B[38;5;28;01mtry\u001B[39;00m:\n\u001B[1;32m--> 194\u001B[0m         \u001B[43mf\u001B[49m\u001B[38;5;241;43m.\u001B[39;49m\u001B[43msend\u001B[49m\u001B[43m(\u001B[49m\u001B[38;5;28;43;01mNone\u001B[39;49;00m\u001B[43m)\u001B[49m\n\u001B[0;32m    195\u001B[0m     \u001B[38;5;28;01mexcept\u001B[39;00m \u001B[38;5;167;01mStopIteration\u001B[39;00m \u001B[38;5;28;01mas\u001B[39;00m exc:\n\u001B[0;32m    196\u001B[0m         \u001B[38;5;28;01mreturn\u001B[39;00m exc\u001B[38;5;241m.\u001B[39mvalue\n",
      "File \u001B[1;32mE:\\desktop\\mpyc\\demos\\np_cnnmnist.py:142\u001B[0m, in \u001B[0;36mmain\u001B[1;34m()\u001B[0m\n\u001B[0;32m    140\u001B[0m     secnum\u001B[38;5;241m.\u001B[39mbit_length \u001B[38;5;241m=\u001B[39m \u001B[38;5;241m16\u001B[39m\n\u001B[0;32m    141\u001B[0m logging\u001B[38;5;241m.\u001B[39minfo(\u001B[38;5;124m'\u001B[39m\u001B[38;5;124m- - - - - - - - maxpool - - - - - - -\u001B[39m\u001B[38;5;124m'\u001B[39m)\n\u001B[1;32m--> 142\u001B[0m x \u001B[38;5;241m=\u001B[39m \u001B[43mmaxpool\u001B[49m\u001B[43m(\u001B[49m\u001B[43mx\u001B[49m\u001B[43m)\u001B[49m\n\u001B[0;32m    143\u001B[0m logging\u001B[38;5;241m.\u001B[39minfo(\u001B[38;5;124m'\u001B[39m\u001B[38;5;124m- - - - - - - - ReLU    - - - - - - -\u001B[39m\u001B[38;5;124m'\u001B[39m)\n\u001B[0;32m    144\u001B[0m x \u001B[38;5;241m=\u001B[39m (x \u001B[38;5;241m>\u001B[39m\u001B[38;5;241m=\u001B[39m \u001B[38;5;241m0\u001B[39m) \u001B[38;5;241m*\u001B[39m x\n",
      "File \u001B[1;32mE:\\desktop\\mpyc\\demos\\np_cnnmnist.py:92\u001B[0m, in \u001B[0;36mmaxpool\u001B[1;34m(x)\u001B[0m\n\u001B[0;32m     90\u001B[0m \u001B[38;5;28;01mdef\u001B[39;00m \u001B[38;5;21mmaxpool\u001B[39m(x):\n\u001B[0;32m     91\u001B[0m     \u001B[38;5;66;03m# maxpooling (2,2)-squares in (m,n)-shape images from x with stride 2\u001B[39;00m\n\u001B[1;32m---> 92\u001B[0m     x \u001B[38;5;241m=\u001B[39m \u001B[43mnp\u001B[49m\u001B[38;5;241;43m.\u001B[39;49m\u001B[43mmaximum\u001B[49m\u001B[43m(\u001B[49m\u001B[43mx\u001B[49m\u001B[43m[\u001B[49m\u001B[43m:\u001B[49m\u001B[43m,\u001B[49m\u001B[43m \u001B[49m\u001B[43m:\u001B[49m\u001B[43m,\u001B[49m\u001B[43m \u001B[49m\u001B[43m:\u001B[49m\u001B[43m:\u001B[49m\u001B[38;5;241;43m2\u001B[39;49m\u001B[43m,\u001B[49m\u001B[43m \u001B[49m\u001B[43m:\u001B[49m\u001B[43m]\u001B[49m\u001B[43m,\u001B[49m\u001B[43m \u001B[49m\u001B[43mx\u001B[49m\u001B[43m[\u001B[49m\u001B[43m:\u001B[49m\u001B[43m,\u001B[49m\u001B[43m \u001B[49m\u001B[43m:\u001B[49m\u001B[43m,\u001B[49m\u001B[43m \u001B[49m\u001B[38;5;241;43m1\u001B[39;49m\u001B[43m:\u001B[49m\u001B[43m:\u001B[49m\u001B[38;5;241;43m2\u001B[39;49m\u001B[43m,\u001B[49m\u001B[43m \u001B[49m\u001B[43m:\u001B[49m\u001B[43m]\u001B[49m\u001B[43m)\u001B[49m  \u001B[38;5;66;03m# m //= 2\u001B[39;00m\n\u001B[0;32m     93\u001B[0m     x \u001B[38;5;241m=\u001B[39m np\u001B[38;5;241m.\u001B[39mmaximum(x[:, :, :, ::\u001B[38;5;241m2\u001B[39m], x[:, :, :, \u001B[38;5;241m1\u001B[39m::\u001B[38;5;241m2\u001B[39m])  \u001B[38;5;66;03m# n //= 2\u001B[39;00m\n\u001B[0;32m     94\u001B[0m     \u001B[38;5;28;01mreturn\u001B[39;00m x\n",
      "File \u001B[1;32mE:\\desktop\\mpyc\\mpyc\\sectypes.py:69\u001B[0m, in \u001B[0;36m__array_ufunc__\u001B[1;34m(self, ufunc, method, *inputs, **kwargs)\u001B[0m\n\u001B[0;32m     66\u001B[0m \u001B[38;5;28;01mexcept\u001B[39;00m \u001B[38;5;167;01mAttributeError\u001B[39;00m:\n\u001B[0;32m     67\u001B[0m     \u001B[38;5;28;01mraise\u001B[39;00m \u001B[38;5;167;01mTypeError\u001B[39;00m(\u001B[38;5;124mf\u001B[39m\u001B[38;5;124m'\u001B[39m\u001B[38;5;124mnp.\u001B[39m\u001B[38;5;132;01m{\u001B[39;00mufunc\u001B[38;5;241m.\u001B[39m\u001B[38;5;18m__name__\u001B[39m\u001B[38;5;132;01m}\u001B[39;00m\u001B[38;5;124m not supported for \u001B[39m\u001B[38;5;132;01m{\u001B[39;00m\u001B[38;5;28mtype\u001B[39m(\u001B[38;5;28mself\u001B[39m)\u001B[38;5;241m.\u001B[39m\u001B[38;5;18m__name__\u001B[39m\u001B[38;5;132;01m}\u001B[39;00m\u001B[38;5;124m'\u001B[39m)\n\u001B[1;32m---> 69\u001B[0m \u001B[38;5;28;01mreturn\u001B[39;00m func(\u001B[38;5;241m*\u001B[39minputs, \u001B[38;5;241m*\u001B[39m\u001B[38;5;241m*\u001B[39mkwargs)\n",
      "File \u001B[1;32mE:\\desktop\\mpyc\\mpyc\\runtime.py:2845\u001B[0m, in \u001B[0;36mRuntime.np_maximum\u001B[1;34m(self, a, b)\u001B[0m\n\u001B[0;32m   2839\u001B[0m \u001B[38;5;28;01mdef\u001B[39;00m \u001B[38;5;21mnp_maximum\u001B[39m(\u001B[38;5;28mself\u001B[39m, a, b):\n\u001B[0;32m   2840\u001B[0m \u001B[38;5;250m    \u001B[39m\u001B[38;5;124;03m\"\"\"Secure elementwise maximum of a and b.\u001B[39;00m\n\u001B[0;32m   2841\u001B[0m \n\u001B[0;32m   2842\u001B[0m \u001B[38;5;124;03m    If a and b are of different shapes, they must be broadcastable to a common shape\u001B[39;00m\n\u001B[0;32m   2843\u001B[0m \u001B[38;5;124;03m    (which is scalar if both a and b are scalars).\u001B[39;00m\n\u001B[0;32m   2844\u001B[0m \u001B[38;5;124;03m    \"\"\"\u001B[39;00m\n\u001B[1;32m-> 2845\u001B[0m     \u001B[38;5;28;01mreturn\u001B[39;00m a \u001B[38;5;241m+\u001B[39m (\u001B[43ma\u001B[49m\u001B[43m \u001B[49m\u001B[38;5;241;43m<\u001B[39;49m\u001B[43m \u001B[49m\u001B[43mb\u001B[49m) \u001B[38;5;241m*\u001B[39m (b \u001B[38;5;241m-\u001B[39m a)\n",
      "File \u001B[1;32mE:\\desktop\\mpyc\\mpyc\\sectypes.py:1141\u001B[0m, in \u001B[0;36mSecureArray.__lt__\u001B[1;34m(self, other)\u001B[0m\n\u001B[0;32m   1139\u001B[0m \u001B[38;5;250m\u001B[39m\u001B[38;5;124;03m\"\"\"Strictly less-than comparison.\"\"\"\u001B[39;00m\n\u001B[0;32m   1140\u001B[0m \u001B[38;5;66;03m# self < other\u001B[39;00m\n\u001B[1;32m-> 1141\u001B[0m \u001B[38;5;28;01mreturn\u001B[39;00m \u001B[43mruntime\u001B[49m\u001B[38;5;241;43m.\u001B[39;49m\u001B[43mnp_less\u001B[49m\u001B[43m(\u001B[49m\u001B[38;5;28;43mself\u001B[39;49m\u001B[43m,\u001B[49m\u001B[43m \u001B[49m\u001B[43mother\u001B[49m\u001B[43m)\u001B[49m\n",
      "File \u001B[1;32mE:\\desktop\\mpyc\\mpyc\\runtime.py:3013\u001B[0m, in \u001B[0;36mRuntime.np_less\u001B[1;34m(self, a, b)\u001B[0m\n\u001B[0;32m   3011\u001B[0m \u001B[38;5;28;01mdef\u001B[39;00m \u001B[38;5;21mnp_less\u001B[39m(\u001B[38;5;28mself\u001B[39m, a, b):\n\u001B[0;32m   3012\u001B[0m \u001B[38;5;250m    \u001B[39m\u001B[38;5;124;03m\"\"\"Secure comparison a < b, elementwise with broadcast.\"\"\"\u001B[39;00m\n\u001B[1;32m-> 3013\u001B[0m     \u001B[38;5;28;01mreturn\u001B[39;00m \u001B[38;5;28;43mself\u001B[39;49m\u001B[38;5;241;43m.\u001B[39;49m\u001B[43mnp_sgn\u001B[49m\u001B[43m(\u001B[49m\u001B[43ma\u001B[49m\u001B[43m \u001B[49m\u001B[38;5;241;43m-\u001B[39;49m\u001B[43m \u001B[49m\u001B[43mb\u001B[49m\u001B[43m,\u001B[49m\u001B[43m \u001B[49m\u001B[43mLT\u001B[49m\u001B[38;5;241;43m=\u001B[39;49m\u001B[38;5;28;43;01mTrue\u001B[39;49;00m\u001B[43m)\u001B[49m\n",
      "File \u001B[1;32mE:\\desktop\\mpyc\\mpyc\\asyncoro.py:446\u001B[0m, in \u001B[0;36mmpc_coro.<locals>.typed_asyncoro\u001B[1;34m(*args, **kwargs)\u001B[0m\n\u001B[0;32m    444\u001B[0m \u001B[38;5;28;01mwhile\u001B[39;00m \u001B[38;5;28;01mTrue\u001B[39;00m:\n\u001B[0;32m    445\u001B[0m     \u001B[38;5;28;01mtry\u001B[39;00m:\n\u001B[1;32m--> 446\u001B[0m         \u001B[43mcoro\u001B[49m\u001B[38;5;241;43m.\u001B[39;49m\u001B[43msend\u001B[49m\u001B[43m(\u001B[49m\u001B[38;5;28;43;01mNone\u001B[39;49;00m\u001B[43m)\u001B[49m\n\u001B[0;32m    447\u001B[0m     \u001B[38;5;28;01mexcept\u001B[39;00m \u001B[38;5;167;01mStopIteration\u001B[39;00m \u001B[38;5;28;01mas\u001B[39;00m exc:\n\u001B[0;32m    448\u001B[0m         runtime\u001B[38;5;241m.\u001B[39m_pc_level \u001B[38;5;241m-\u001B[39m\u001B[38;5;241m=\u001B[39m \u001B[38;5;241m1\u001B[39m\n",
      "File \u001B[1;32mE:\\desktop\\mpyc\\mpyc\\runtime.py:3090\u001B[0m, in \u001B[0;36mRuntime.np_sgn\u001B[1;34m(self, a, l, LT, EQ)\u001B[0m\n\u001B[0;32m   3087\u001B[0m l \u001B[38;5;241m=\u001B[39m l \u001B[38;5;129;01mor\u001B[39;00m stype\u001B[38;5;241m.\u001B[39msectype\u001B[38;5;241m.\u001B[39mbit_length\n\u001B[0;32m   3088\u001B[0m k \u001B[38;5;241m=\u001B[39m \u001B[38;5;28mself\u001B[39m\u001B[38;5;241m.\u001B[39moptions\u001B[38;5;241m.\u001B[39msec_param\n\u001B[1;32m-> 3090\u001B[0m r_bits \u001B[38;5;241m=\u001B[39m \u001B[38;5;28;43mself\u001B[39;49m\u001B[38;5;241;43m.\u001B[39;49m\u001B[43mnp_random_bits\u001B[49m\u001B[43m(\u001B[49m\u001B[43mZp\u001B[49m\u001B[43m,\u001B[49m\u001B[43m \u001B[49m\u001B[43m(\u001B[49m\u001B[43ml\u001B[49m\u001B[43m \u001B[49m\u001B[38;5;241;43m+\u001B[39;49m\u001B[43m \u001B[49m\u001B[38;5;28;43mint\u001B[39;49m\u001B[43m(\u001B[49m\u001B[38;5;129;43;01mnot\u001B[39;49;00m\u001B[43m \u001B[49m\u001B[43mEQ\u001B[49m\u001B[43m)\u001B[49m\u001B[43m)\u001B[49m\u001B[43m \u001B[49m\u001B[38;5;241;43m*\u001B[39;49m\u001B[43m \u001B[49m\u001B[43mn\u001B[49m\u001B[43m)\u001B[49m\n\u001B[0;32m   3091\u001B[0m r_divl \u001B[38;5;241m=\u001B[39m \u001B[38;5;28mself\u001B[39m\u001B[38;5;241m.\u001B[39m_np_randoms(Zp, n, \u001B[38;5;241m1\u001B[39m\u001B[38;5;241m<<\u001B[39mk)\n\u001B[0;32m   3092\u001B[0m r_bits \u001B[38;5;241m=\u001B[39m (\u001B[38;5;28;01mawait\u001B[39;00m r_bits)\u001B[38;5;241m.\u001B[39mvalue\n",
      "File \u001B[1;32mE:\\desktop\\mpyc\\mpyc\\asyncoro.py:446\u001B[0m, in \u001B[0;36mmpc_coro.<locals>.typed_asyncoro\u001B[1;34m(*args, **kwargs)\u001B[0m\n\u001B[0;32m    444\u001B[0m \u001B[38;5;28;01mwhile\u001B[39;00m \u001B[38;5;28;01mTrue\u001B[39;00m:\n\u001B[0;32m    445\u001B[0m     \u001B[38;5;28;01mtry\u001B[39;00m:\n\u001B[1;32m--> 446\u001B[0m         \u001B[43mcoro\u001B[49m\u001B[38;5;241;43m.\u001B[39;49m\u001B[43msend\u001B[49m\u001B[43m(\u001B[49m\u001B[38;5;28;43;01mNone\u001B[39;49;00m\u001B[43m)\u001B[49m\n\u001B[0;32m    447\u001B[0m     \u001B[38;5;28;01mexcept\u001B[39;00m \u001B[38;5;167;01mStopIteration\u001B[39;00m \u001B[38;5;28;01mas\u001B[39;00m exc:\n\u001B[0;32m    448\u001B[0m         runtime\u001B[38;5;241m.\u001B[39m_pc_level \u001B[38;5;241m-\u001B[39m\u001B[38;5;241m=\u001B[39m \u001B[38;5;241m1\u001B[39m\n",
      "File \u001B[1;32mE:\\desktop\\mpyc\\mpyc\\runtime.py:3711\u001B[0m, in \u001B[0;36mRuntime.np_random_bits\u001B[1;34m(self, sftype, n, signed)\u001B[0m\n\u001B[0;32m   3709\u001B[0m     r \u001B[38;5;241m=\u001B[39m _r\u001B[38;5;241m.\u001B[39mvalue\n\u001B[0;32m   3710\u001B[0m     r2 \u001B[38;5;241m=\u001B[39m _r2\u001B[38;5;241m.\u001B[39mvalue\n\u001B[1;32m-> 3711\u001B[0m bits \u001B[38;5;241m=\u001B[39m r \u001B[38;5;241m*\u001B[39m \u001B[43mfield\u001B[49m\u001B[38;5;241;43m.\u001B[39;49m\u001B[43marray\u001B[49m\u001B[38;5;241;43m.\u001B[39;49m\u001B[43m_sqrt\u001B[49m\u001B[43m(\u001B[49m\u001B[43mr2\u001B[49m\u001B[43m,\u001B[49m\u001B[43m \u001B[49m\u001B[43mINV\u001B[49m\u001B[38;5;241;43m=\u001B[39;49m\u001B[38;5;28;43;01mTrue\u001B[39;49;00m\u001B[43m)\u001B[49m\n\u001B[0;32m   3712\u001B[0m \u001B[38;5;28;01mif\u001B[39;00m \u001B[38;5;129;01mnot\u001B[39;00m signed:\n\u001B[0;32m   3713\u001B[0m     bits \u001B[38;5;241m%\u001B[39m\u001B[38;5;241m=\u001B[39m field\u001B[38;5;241m.\u001B[39mmodulus\n",
      "File \u001B[1;32mE:\\desktop\\mpyc\\mpyc\\finfields.py:1431\u001B[0m, in \u001B[0;36mPrimeFieldArray._sqrt\u001B[1;34m(cls, a, INV)\u001B[0m\n\u001B[0;32m   1429\u001B[0m \u001B[38;5;28;01mif\u001B[39;00m W \u001B[38;5;241m==\u001B[39m \u001B[38;5;241m0\u001B[39m:\n\u001B[0;32m   1430\u001B[0m     powmod \u001B[38;5;241m=\u001B[39m gmpy2\u001B[38;5;241m.\u001B[39mpowmod\n\u001B[1;32m-> 1431\u001B[0m     \u001B[38;5;28;01mreturn\u001B[39;00m \u001B[43mnp\u001B[49m\u001B[38;5;241;43m.\u001B[39;49m\u001B[43mvectorize\u001B[49m\u001B[43m(\u001B[49m\u001B[38;5;28;43;01mlambda\u001B[39;49;00m\u001B[43m \u001B[49m\u001B[43ma\u001B[49m\u001B[43m:\u001B[49m\u001B[43m \u001B[49m\u001B[38;5;28;43mint\u001B[39;49m\u001B[43m(\u001B[49m\u001B[43mpowmod\u001B[49m\u001B[43m(\u001B[49m\u001B[43ma\u001B[49m\u001B[43m,\u001B[49m\u001B[43m \u001B[49m\u001B[43mp4\u001B[49m\u001B[43m,\u001B[49m\u001B[43m \u001B[49m\u001B[43mp\u001B[49m\u001B[43m)\u001B[49m\u001B[43m)\u001B[49m\u001B[43m,\u001B[49m\u001B[43m \u001B[49m\u001B[43motypes\u001B[49m\u001B[38;5;241;43m=\u001B[39;49m\u001B[38;5;124;43m'\u001B[39;49m\u001B[38;5;124;43mO\u001B[39;49m\u001B[38;5;124;43m'\u001B[39;49m\u001B[43m)\u001B[49m\u001B[43m(\u001B[49m\u001B[43ma\u001B[49m\u001B[43m)\u001B[49m\n\u001B[0;32m   1433\u001B[0m \u001B[38;5;66;03m# Experimental use of W worker threads.\u001B[39;00m\n\u001B[0;32m   1434\u001B[0m \u001B[38;5;66;03m# Using gmpy2's new function powmod_base_list(), which releases the GIL.\u001B[39;00m\n\u001B[0;32m   1435\u001B[0m \u001B[38;5;66;03m# Example: \"python np_lpsolver.py -i6 -M3 -W2\" about 1.4x faster than for W=0.\u001B[39;00m\n\u001B[0;32m   1436\u001B[0m \u001B[38;5;28;01mfrom\u001B[39;00m \u001B[38;5;21;01mgmpy2\u001B[39;00m \u001B[38;5;28;01mimport\u001B[39;00m powmod_base_list  \u001B[38;5;66;03m# NB: requires gmpy2 >= 2.1.3\u001B[39;00m\n",
      "File \u001B[1;32mD:\\my_software\\miniconda\\envs\\mpyc\\lib\\site-packages\\numpy\\lib\\function_base.py:2372\u001B[0m, in \u001B[0;36mvectorize.__call__\u001B[1;34m(self, *args, **kwargs)\u001B[0m\n\u001B[0;32m   2369\u001B[0m     \u001B[38;5;28mself\u001B[39m\u001B[38;5;241m.\u001B[39m_init_stage_2(\u001B[38;5;241m*\u001B[39margs, \u001B[38;5;241m*\u001B[39m\u001B[38;5;241m*\u001B[39mkwargs)\n\u001B[0;32m   2370\u001B[0m     \u001B[38;5;28;01mreturn\u001B[39;00m \u001B[38;5;28mself\u001B[39m\n\u001B[1;32m-> 2372\u001B[0m \u001B[38;5;28;01mreturn\u001B[39;00m \u001B[38;5;28mself\u001B[39m\u001B[38;5;241m.\u001B[39m_call_as_normal(\u001B[38;5;241m*\u001B[39margs, \u001B[38;5;241m*\u001B[39m\u001B[38;5;241m*\u001B[39mkwargs)\n",
      "File \u001B[1;32mD:\\my_software\\miniconda\\envs\\mpyc\\lib\\site-packages\\numpy\\lib\\function_base.py:2365\u001B[0m, in \u001B[0;36mvectorize._call_as_normal\u001B[1;34m(self, *args, **kwargs)\u001B[0m\n\u001B[0;32m   2362\u001B[0m     vargs \u001B[38;5;241m=\u001B[39m [args[_i] \u001B[38;5;28;01mfor\u001B[39;00m _i \u001B[38;5;129;01min\u001B[39;00m inds]\n\u001B[0;32m   2363\u001B[0m     vargs\u001B[38;5;241m.\u001B[39mextend([kwargs[_n] \u001B[38;5;28;01mfor\u001B[39;00m _n \u001B[38;5;129;01min\u001B[39;00m names])\n\u001B[1;32m-> 2365\u001B[0m \u001B[38;5;28;01mreturn\u001B[39;00m \u001B[38;5;28;43mself\u001B[39;49m\u001B[38;5;241;43m.\u001B[39;49m\u001B[43m_vectorize_call\u001B[49m\u001B[43m(\u001B[49m\u001B[43mfunc\u001B[49m\u001B[38;5;241;43m=\u001B[39;49m\u001B[43mfunc\u001B[49m\u001B[43m,\u001B[49m\u001B[43m \u001B[49m\u001B[43margs\u001B[49m\u001B[38;5;241;43m=\u001B[39;49m\u001B[43mvargs\u001B[49m\u001B[43m)\u001B[49m\n",
      "File \u001B[1;32mD:\\my_software\\miniconda\\envs\\mpyc\\lib\\site-packages\\numpy\\lib\\function_base.py:2455\u001B[0m, in \u001B[0;36mvectorize._vectorize_call\u001B[1;34m(self, func, args)\u001B[0m\n\u001B[0;32m   2452\u001B[0m \u001B[38;5;66;03m# Convert args to object arrays first\u001B[39;00m\n\u001B[0;32m   2453\u001B[0m inputs \u001B[38;5;241m=\u001B[39m [asanyarray(a, dtype\u001B[38;5;241m=\u001B[39m\u001B[38;5;28mobject\u001B[39m) \u001B[38;5;28;01mfor\u001B[39;00m a \u001B[38;5;129;01min\u001B[39;00m args]\n\u001B[1;32m-> 2455\u001B[0m outputs \u001B[38;5;241m=\u001B[39m \u001B[43mufunc\u001B[49m\u001B[43m(\u001B[49m\u001B[38;5;241;43m*\u001B[39;49m\u001B[43minputs\u001B[49m\u001B[43m)\u001B[49m\n\u001B[0;32m   2457\u001B[0m \u001B[38;5;28;01mif\u001B[39;00m ufunc\u001B[38;5;241m.\u001B[39mnout \u001B[38;5;241m==\u001B[39m \u001B[38;5;241m1\u001B[39m:\n\u001B[0;32m   2458\u001B[0m     res \u001B[38;5;241m=\u001B[39m asanyarray(outputs, dtype\u001B[38;5;241m=\u001B[39motypes[\u001B[38;5;241m0\u001B[39m])\n",
      "File \u001B[1;32mE:\\desktop\\mpyc\\mpyc\\finfields.py:1431\u001B[0m, in \u001B[0;36mPrimeFieldArray._sqrt.<locals>.<lambda>\u001B[1;34m(a)\u001B[0m\n\u001B[0;32m   1429\u001B[0m \u001B[38;5;28;01mif\u001B[39;00m W \u001B[38;5;241m==\u001B[39m \u001B[38;5;241m0\u001B[39m:\n\u001B[0;32m   1430\u001B[0m     powmod \u001B[38;5;241m=\u001B[39m gmpy2\u001B[38;5;241m.\u001B[39mpowmod\n\u001B[1;32m-> 1431\u001B[0m     \u001B[38;5;28;01mreturn\u001B[39;00m np\u001B[38;5;241m.\u001B[39mvectorize(\u001B[38;5;28;01mlambda\u001B[39;00m a: \u001B[38;5;28mint\u001B[39m(\u001B[43mpowmod\u001B[49m\u001B[43m(\u001B[49m\u001B[43ma\u001B[49m\u001B[43m,\u001B[49m\u001B[43m \u001B[49m\u001B[43mp4\u001B[49m\u001B[43m,\u001B[49m\u001B[43m \u001B[49m\u001B[43mp\u001B[49m\u001B[43m)\u001B[49m), otypes\u001B[38;5;241m=\u001B[39m\u001B[38;5;124m'\u001B[39m\u001B[38;5;124mO\u001B[39m\u001B[38;5;124m'\u001B[39m)(a)\n\u001B[0;32m   1433\u001B[0m \u001B[38;5;66;03m# Experimental use of W worker threads.\u001B[39;00m\n\u001B[0;32m   1434\u001B[0m \u001B[38;5;66;03m# Using gmpy2's new function powmod_base_list(), which releases the GIL.\u001B[39;00m\n\u001B[0;32m   1435\u001B[0m \u001B[38;5;66;03m# Example: \"python np_lpsolver.py -i6 -M3 -W2\" about 1.4x faster than for W=0.\u001B[39;00m\n\u001B[0;32m   1436\u001B[0m \u001B[38;5;28;01mfrom\u001B[39;00m \u001B[38;5;21;01mgmpy2\u001B[39;00m \u001B[38;5;28;01mimport\u001B[39;00m powmod_base_list  \u001B[38;5;66;03m# NB: requires gmpy2 >= 2.1.3\u001B[39;00m\n",
      "\u001B[1;31mKeyboardInterrupt\u001B[0m: "
     ]
    }
   ],
   "source": [
    "mpc.run(np_cnnmnist.main())"
   ]
  },
  {
   "cell_type": "markdown",
   "metadata": {},
   "source": [
    "## Runs with specific inputs"
   ]
  },
  {
   "cell_type": "code",
   "outputs": [],
   "source": [
    "import sys\n",
    "mpc.logging(False)\n",
    "\n",
    "sys.argv[1:] = ['6']\n",
    "mpc.run(secretsanta.main())\n",
    "\n",
    "print()\n",
    "\n",
    "sys.argv[1:] = ['-i', '2']\n",
    "mpc.run(id3gini.main())\n",
    "\n",
    "print()\n",
    "\n",
    "sys.argv[1:] = ['-i', '1']\n",
    "mpc.run(lpsolver.main())\n",
    "\n",
    "print()\n",
    "\n",
    "sys.argv[1:] = ['1.5']  # forces use of secure fixed-point arithmetic\n",
    "mpc.run(np_cnnmnist.main())  # faster than secure integers\n",
    "\n",
    "sys.argv[1:] = []"
   ],
   "metadata": {
    "collapsed": false
   },
   "execution_count": 7
  }
 ],
 "metadata": {
  "kernelspec": {
   "display_name": "Python 3 (ipykernel)",
   "language": "python",
   "name": "python3"
  },
  "language_info": {
   "codemirror_mode": {
    "name": "ipython",
    "version": 3
   },
   "file_extension": ".py",
   "mimetype": "text/x-python",
   "name": "python",
   "nbconvert_exporter": "python",
   "pygments_lexer": "ipython3",
   "version": "3.8.10"
  }
 },
 "nbformat": 4,
 "nbformat_minor": 2
}
